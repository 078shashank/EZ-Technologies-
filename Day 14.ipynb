{
 "cells": [
  {
   "cell_type": "code",
   "execution_count": 1,
   "id": "9c5a9111",
   "metadata": {},
   "outputs": [
    {
     "name": "stdout",
     "output_type": "stream",
     "text": [
      "Item 5 included (weight: 1, profit: 8)\n",
      "Item 1 included (weight: 1, profit: 5)\n",
      "Item 2 included (weight: 3, profit: 10)\n",
      "Item 3 included (weight: 5, profit: 15)\n",
      "Item 6 included (weight: 3, profit: 9)\n",
      "Item 7 included (weight: 2, profit: 4)\n",
      "Item 4 excluded (weight: 4, profit: 7)\n",
      "Total weight in knapsack: 15\n",
      "Total profit: 51\n"
     ]
    }
   ],
   "source": [
    "profit = [5, 10, 15, 7, 8, 9, 4]\n",
    "weight = [1, 3, 5, 4, 1, 3, 2]\n",
    "cap = 15\n",
    "# Step 1: Calculate profit-to-weight ratio and store in dictionary\n",
    "d = {}\n",
    "for i in range(len(profit)):\n",
    "    d[i] = float('{:.2f}'.format((profit[i] / weight[i])))\n",
    "# Step 2: Convert dictionary to list of tuples and sort by ratio in descendiwng order\n",
    "l = list(d.items())\n",
    "sorted_list = sorted(l, key=lambda x: x[1], reverse=True)\n",
    "# Step 3: Initialize variables for tracking total profit and weight\n",
    "total_profit = 0\n",
    "total_weight = 0\n",
    "# Step 4: Iterate over sorted list and add items to knapsack\n",
    "for index, ratio in sorted_list:\n",
    "    if total_weight + weight[index] <= cap:\n",
    "        total_weight += weight[index]\n",
    "        total_profit += profit[index]\n",
    "        print(f\"Item {index + 1} included (weight: {weight[index]}, profit: {profit[index]})\")\n",
    "    else:\n",
    "        print(f\"Item {index + 1} excluded (weight: {weight[index]}, profit: {profit[index]})\")\n",
    "print(f\"Total weight in knapsack: {total_weight}\")\n",
    "print(f\"Total profit: {total_profit}\")"
   ]
  },
  {
   "cell_type": "code",
   "execution_count": null,
   "id": "fe8bf15c",
   "metadata": {},
   "outputs": [],
   "source": []
  }
 ],
 "metadata": {
  "kernelspec": {
   "display_name": "Python 3 (ipykernel)",
   "language": "python",
   "name": "python3"
  },
  "language_info": {
   "codemirror_mode": {
    "name": "ipython",
    "version": 3
   },
   "file_extension": ".py",
   "mimetype": "text/x-python",
   "name": "python",
   "nbconvert_exporter": "python",
   "pygments_lexer": "ipython3",
   "version": "3.11.5"
  }
 },
 "nbformat": 4,
 "nbformat_minor": 5
}
