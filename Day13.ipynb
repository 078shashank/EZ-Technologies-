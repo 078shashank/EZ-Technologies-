{
 "cells": [
  {
   "cell_type": "markdown",
   "id": "cd2cbec9",
   "metadata": {},
   "source": [
    "## Knapsack problem"
   ]
  },
  {
   "cell_type": "code",
   "execution_count": null,
   "id": "f673b12d",
   "metadata": {},
   "outputs": [],
   "source": [
    "p=[20,10,6,9,18,12,16,30,15]\n",
    "w=[4,5,6,3,2,5,4,6,6]\n",
    "sum1=0\n",
    "o=30\n",
    "l=[p[i]/w[i] for i in range(0,len(p))]\n",
    "while True:\n",
    "    m=max(l)\n",
    "    j=l.index(m)\n",
    "    if o>0:\n",
    "        sum1=sum1+p[j]\n",
    "        print(sum1)\n",
    "        o-=w[j]\n",
    "    else:\n",
    "        break\n",
    "print(sum1)"
   ]
  },
  {
   "cell_type": "code",
   "execution_count": 30,
   "id": "64faed89",
   "metadata": {},
   "outputs": [
    {
     "name": "stdout",
     "output_type": "stream",
     "text": [
      "[20, 10, 6, 7, 18, 12, 16, 30, 15]\n"
     ]
    }
   ],
   "source": [
    "p=[20,10,6,9,18,12,16,30,15]\n",
    "p[3]=7\n",
    "print(p)"
   ]
  },
  {
   "cell_type": "code",
   "execution_count": null,
   "id": "5cf87b88",
   "metadata": {},
   "outputs": [],
   "source": []
  }
 ],
 "metadata": {
  "kernelspec": {
   "display_name": "Python 3 (ipykernel)",
   "language": "python",
   "name": "python3"
  },
  "language_info": {
   "codemirror_mode": {
    "name": "ipython",
    "version": 3
   },
   "file_extension": ".py",
   "mimetype": "text/x-python",
   "name": "python",
   "nbconvert_exporter": "python",
   "pygments_lexer": "ipython3",
   "version": "3.11.5"
  }
 },
 "nbformat": 4,
 "nbformat_minor": 5
}
