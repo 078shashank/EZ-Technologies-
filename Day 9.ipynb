{
 "cells": [
  {
   "cell_type": "markdown",
   "id": "d7597bcf",
   "metadata": {},
   "source": [
    "# Preorder, Inorder, Postorder"
   ]
  },
  {
   "cell_type": "code",
   "execution_count": 11,
   "id": "1fe69c42",
   "metadata": {},
   "outputs": [
    {
     "name": "stdout",
     "output_type": "stream",
     "text": [
      "Preorder\n",
      "1 2 4 5 3 6 7 \n",
      "inorder\n",
      "4 2 5 1 6 3 7 \n",
      "postorder\n",
      "4 5 2 6 7 3 1 "
     ]
    }
   ],
   "source": [
    "class node:\n",
    "    def __init__(self,data):\n",
    "        self.value=data\n",
    "        self.left=None\n",
    "        self.right=None\n",
    "def preorder(root):\n",
    "    if root==None:\n",
    "        return\n",
    "    print(root.value,end=' ')\n",
    "    preorder(root.left)\n",
    "    preorder(root.right)\n",
    "def inorder(root):\n",
    "    if root==None:\n",
    "        return\n",
    "    inorder(root.left)\n",
    "    print(root.value,end=' ')\n",
    "    inorder(root.right)\n",
    "def postorder(root):\n",
    "    if root == None:\n",
    "        return\n",
    "    postorder(root.left)\n",
    "    postorder(root.right)\n",
    "    print(root.value,end=' ')\n",
    "    \n",
    "if __name__==\"__main__\":\n",
    "    root = node(1)\n",
    "    root.left=node(2)\n",
    "    root.right=node(3)\n",
    "    root.left.left=node(4)\n",
    "    root.left.right=node(5)\n",
    "    root.right.left=node(6)\n",
    "    root.right.right=node(7)\n",
    "    print(\"Preorder\")\n",
    "    preorder(root)\n",
    "    print(\"\\ninorder\")\n",
    "    inorder(root)\n",
    "    print(\"\\npostorder\")\n",
    "    postorder(root)"
   ]
  },
  {
   "cell_type": "markdown",
   "id": "61e84879",
   "metadata": {},
   "source": [
    "# Levelorder"
   ]
  },
  {
   "cell_type": "code",
   "execution_count": 15,
   "id": "48fdc857",
   "metadata": {},
   "outputs": [
    {
     "name": "stdout",
     "output_type": "stream",
     "text": [
      "1 \n",
      "2 3 \n",
      "4 5 6 7 \n",
      "9 10 11 \n",
      "12 13 "
     ]
    }
   ],
   "source": [
    "class node:\n",
    "    def __init__(self,data):\n",
    "        self.value=data\n",
    "        self.left=None\n",
    "        self.right=None\n",
    "def levelorder(root):\n",
    "    q=[root]\n",
    "    q.append(None)\n",
    "    while len(q)>0:\n",
    "        curr=q.pop(0)\n",
    "        if curr == None:\n",
    "            if len(q)==0:\n",
    "                break\n",
    "            else:\n",
    "                print()\n",
    "                q.append(None)\n",
    "        else:\n",
    "            print(curr.value,end=' ')\n",
    "            if curr.left !=None:\n",
    "                q.append(curr.left)\n",
    "            if curr.right!=None:\n",
    "                q.append(curr.right)\n",
    "if __name__==\"__main__\":\n",
    "    root=node(1)\n",
    "    root.left=node(2)\n",
    "    root.right=node(3)\n",
    "    root.left.left=node(4)\n",
    "    root.left.right=node(5)\n",
    "    root.right.left=node(6)\n",
    "    root.right.right=node(7)\n",
    "    root.left.right.left=node(9)\n",
    "    root.left.right.right=node(10)\n",
    "    root.right.right.right=node(11)\n",
    "    root.left.right.left.left=node(12)\n",
    "    root.left.right.left.right=node(13)\n",
    "    levelorder(root)"
   ]
  },
  {
   "cell_type": "code",
   "execution_count": 51,
   "id": "7304d6fe",
   "metadata": {},
   "outputs": [
    {
     "name": "stdout",
     "output_type": "stream",
     "text": [
      "1 \n",
      "2 3 \n",
      "4 5 6 7 \n",
      "9 10 11 \n",
      "12 13 5\n",
      "4\n",
      "12\n",
      "13\n",
      "10\n",
      "6\n",
      "11\n"
     ]
    }
   ],
   "source": [
    "class node:\n",
    "    def __init__(self,data):\n",
    "        self.left=None\n",
    "        self.value=data\n",
    "        self.right=None\n",
    "def bfs(root):\n",
    "    Q=[root]\n",
    "    Q.append(None)\n",
    "    while len(Q)>0:\n",
    "        cur=Q.pop(0)\n",
    "        if  cur == None:\n",
    "            if len(Q)==0:\n",
    "                break\n",
    "            else:\n",
    "                print()\n",
    "                Q.append(None)\n",
    "        else:\n",
    "            print(cur.value,end=' ')\n",
    "            if (cur.left!=None):\n",
    "                Q.append(cur.left)\n",
    "            if (cur.right!=None):\n",
    "                Q.append(cur.right)\n",
    "                \n",
    "def leaf_nodes(root):\n",
    "    if root==None:\n",
    "        return 0\n",
    "    if root.left==None and root.right== None:\n",
    "        print(root.value)\n",
    "    else:\n",
    "        leaf_nodes(root.left)\n",
    "        leaf_nodes(root.right)\n",
    "\n",
    "    \n",
    "if __name__=='__main__':\n",
    "    root=node(1)\n",
    "    root.left=node(2)\n",
    "    root.right=node(3)\n",
    "    root.left.left=node(4)\n",
    "    root.left.right=node(5)\n",
    "    root.left.right.left=node(9)\n",
    "    root.left.right.right=node(10)\n",
    "    root.left.right.left.left=node(12)\n",
    "    root.left.right.left.right=node(13)\n",
    "    root.right.left=node(6)\n",
    "    root.right.right=node(7)\n",
    "    root.right.right.right=node(11)\n",
    "    bfs(root)\n",
    "    print(height(root))\n",
    "    leaf_nodes(root)"
   ]
  },
  {
   "cell_type": "markdown",
   "id": "482adc5f",
   "metadata": {},
   "source": [
    "# Top view"
   ]
  },
  {
   "cell_type": "code",
   "execution_count": 28,
   "id": "aa24c94f",
   "metadata": {},
   "outputs": [
    {
     "name": "stdout",
     "output_type": "stream",
     "text": [
      "4\n",
      "2\n",
      "1\n",
      "3\n",
      "7\n",
      "11\n"
     ]
    }
   ],
   "source": [
    "class Node:\n",
    "    def __init__(self,data):\n",
    "        self.value=data\n",
    "        self.left=None\n",
    "        self.right=None\n",
    "        \n",
    "class node_data:\n",
    "    def __init__(self,Node,hkey):\n",
    "        self.node = Node\n",
    "        self.hkey = hkey\n",
    "\n",
    "def topview(root):\n",
    "    temp = node_data(root,0)\n",
    "    q=[temp]\n",
    "    q.append(None)\n",
    "    dic={}\n",
    "    while len(q)>0:\n",
    "        curr=q.pop(0)\n",
    "        if curr==None:\n",
    "            if len(q)==0:\n",
    "                break\n",
    "            else:\n",
    "                q.append(None)\n",
    "        else:\n",
    "            if  curr.hkey not in dic.keys():\n",
    "                dic[curr.hkey]= curr.node.value\n",
    "            \n",
    "            if curr.node.left!=None:\n",
    "                temp = node_data(curr.node.left,curr.hkey-1)\n",
    "                q.append(temp)\n",
    "            if curr.node.right!=None:\n",
    "                temp = node_data(curr.node.right,curr.hkey+1)\n",
    "                q.append(temp)\n",
    "    for i in sorted(dic) :\n",
    "        print(dic[i])\n",
    "    \n",
    "if __name__ == \"__main__\":                             \n",
    "                                            \n",
    "    root=Node(1)                                        \n",
    "    root.left=Node(2)\n",
    "    root.right=Node(3)\n",
    "    \n",
    "    root.left.left=Node(4)\n",
    "    root.left.right=Node(5)\n",
    "    \n",
    "    root.right.left=Node(6)\n",
    "    root.right.right=Node(7)\n",
    "    \n",
    "    root.left.right.left=Node(9)\n",
    "    root.left.right.right=Node(10)\n",
    "    \n",
    "    root.right.right.right=Node(11)\n",
    "    \n",
    "    root.left.right.left.left=Node(12)\n",
    "    root.left.right.left.right=Node(13) \n",
    "\n",
    "    topview(root)"
   ]
  },
  {
   "cell_type": "markdown",
   "id": "56151cc1",
   "metadata": {},
   "source": [
    "# Bottm view"
   ]
  },
  {
   "cell_type": "code",
   "execution_count": 30,
   "id": "bdcfce11",
   "metadata": {},
   "outputs": [
    {
     "name": "stdout",
     "output_type": "stream",
     "text": [
      "12\n",
      "9\n",
      "13\n",
      "10\n",
      "7\n",
      "11\n"
     ]
    }
   ],
   "source": [
    "class Node:\n",
    "    def __init__(self,data):\n",
    "        self.value=data\n",
    "        self.left=None\n",
    "        self.right=None\n",
    "        \n",
    "class node_data:\n",
    "    def __init__(self,Node,hkey):\n",
    "        self.node = Node\n",
    "        self.hkey = hkey\n",
    "\n",
    "def topview(root):\n",
    "    temp = node_data(root,0)\n",
    "    q=[temp]\n",
    "    q.append(None)\n",
    "    dic={}\n",
    "    while len(q)>0:\n",
    "        curr=q.pop(0)\n",
    "        if curr==None:\n",
    "            if len(q)==0:\n",
    "                break\n",
    "            else:\n",
    "                q.append(None)\n",
    "        else:\n",
    "            \n",
    "            dic[curr.hkey]= curr.node.value\n",
    "            \n",
    "            if curr.node.left!=None:\n",
    "                temp = node_data(curr.node.left,curr.hkey-1)\n",
    "                q.append(temp)\n",
    "            if curr.node.right!=None:\n",
    "                temp = node_data(curr.node.right,curr.hkey+1)\n",
    "                q.append(temp)\n",
    "    for i in sorted(dic) :\n",
    "        print(dic[i])\n",
    "    \n",
    "if __name__ == \"__main__\":                             \n",
    "                                            \n",
    "    root=Node(1)                                        \n",
    "    root.left=Node(2)\n",
    "    root.right=Node(3)\n",
    "    \n",
    "    root.left.left=Node(4)\n",
    "    root.left.right=Node(5)\n",
    "    \n",
    "    root.right.left=Node(6)\n",
    "    root.right.right=Node(7)\n",
    "    \n",
    "    root.left.right.left=Node(9)\n",
    "    root.left.right.right=Node(10)\n",
    "    \n",
    "    root.right.right.right=Node(11)\n",
    "    \n",
    "    root.left.right.left.left=Node(12)\n",
    "    root.left.right.left.right=Node(13) \n",
    "\n",
    "    topview(root)"
   ]
  },
  {
   "cell_type": "markdown",
   "id": "b4d59b50",
   "metadata": {},
   "source": [
    "# Left view"
   ]
  },
  {
   "cell_type": "code",
   "execution_count": 50,
   "id": "da8c49ad",
   "metadata": {},
   "outputs": [
    {
     "name": "stdout",
     "output_type": "stream",
     "text": [
      "1 2 4 9 12\n"
     ]
    }
   ],
   "source": [
    "class node:\n",
    "    def __init__(self,data):\n",
    "        self.value=data\n",
    "        self.left=None\n",
    "        self.right=None\n",
    "def levelorder(root):\n",
    "    l=[root.value]\n",
    "    q=[root]\n",
    "    q.append(None)\n",
    "    while len(q)>0:\n",
    "        curr=q.pop(0)\n",
    "        if curr == None:\n",
    "            if len(q)==0:\n",
    "                break\n",
    "            else:\n",
    "                l.append(q[0].value)\n",
    "                q.append(None)\n",
    "        else:\n",
    "            if curr.left !=None:\n",
    "                q.append(curr.left)\n",
    "            if curr.right!=None:\n",
    "                q.append(curr.right)\n",
    "    print(*l)\n",
    "if __name__==\"__main__\":\n",
    "    root=node(1)\n",
    "    root.left=node(2)\n",
    "    root.right=node(3)\n",
    "    root.left.left=node(4)\n",
    "    root.left.right=node(5)\n",
    "    root.right.left=node(6)\n",
    "    root.right.right=node(7)\n",
    "    root.left.right.left=node(9)\n",
    "    root.left.right.right=node(10)\n",
    "    root.right.right.right=node(11)\n",
    "    root.left.right.left.left=node(12)\n",
    "    root.left.right.left.right=node(13)\n",
    "    levelorder(root)"
   ]
  },
  {
   "cell_type": "code",
   "execution_count": null,
   "id": "93ab9ad1",
   "metadata": {},
   "outputs": [],
   "source": []
  }
 ],
 "metadata": {
  "kernelspec": {
   "display_name": "Python 3 (ipykernel)",
   "language": "python",
   "name": "python3"
  },
  "language_info": {
   "codemirror_mode": {
    "name": "ipython",
    "version": 3
   },
   "file_extension": ".py",
   "mimetype": "text/x-python",
   "name": "python",
   "nbconvert_exporter": "python",
   "pygments_lexer": "ipython3",
   "version": "3.11.5"
  }
 },
 "nbformat": 4,
 "nbformat_minor": 5
}
