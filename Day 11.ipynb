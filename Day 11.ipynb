{
 "cells": [
  {
   "cell_type": "markdown",
   "id": "0b18fd56",
   "metadata": {},
   "source": [
    "# AVL Tree"
   ]
  },
  {
   "cell_type": "code",
   "execution_count": 13,
   "id": "3b0ae5d6",
   "metadata": {},
   "outputs": [
    {
     "name": "stdout",
     "output_type": "stream",
     "text": [
      "0\n",
      "7\n",
      "12\n",
      "17\n",
      "19\n",
      "21\n",
      "27\n",
      "29\n",
      "34\n",
      "38\n",
      "75\n",
      "99\n",
      "100\n",
      "134\n",
      "143\n"
     ]
    }
   ],
   "source": [
    "class node:\n",
    "    def __init__(self,data):\n",
    "        self.value=data\n",
    "        self.left=None\n",
    "        self.right=None\n",
    "        self.height=1\n",
    "\n",
    "\n",
    "def inorder(root):\n",
    "    if root==None:\n",
    "        return \n",
    "    inorder(root.left)\n",
    "    print(root.value)\n",
    "    inorder(root.right)\n",
    "\n",
    "def ght(root):\n",
    "    if not root:\n",
    "        return 0\n",
    "    else:\n",
    "        return ght(root.left)-ght(root.right)\n",
    "\n",
    "def getbf(root):\n",
    "    if not root:\n",
    "        return 0\n",
    "    return ght(root.left)-ght(root.right)\n",
    "        \n",
    "\n",
    "def insert(root,me):\n",
    "    if not root:\n",
    "        return node(me)\n",
    "    if me<root.value:\n",
    "        root.left=insert(root.left,me)\n",
    "    else:\n",
    "        root.right=insert(root.right,me)\n",
    "    root.height=1+max(ght(root.left),ght(root.right))\n",
    "    bf=getbf(root)\n",
    "    if bf>1 and me<root.left.value:#rr rotation\n",
    "        return rightRotate(root)\n",
    "    if bf>1 and me>root.left.value:\n",
    "        root.left=leftRotate(root)\n",
    "        return rightRotate(root)\n",
    "    if bf<-1 and me>root.right.value:#ll\n",
    "        return leftRotate(root)\n",
    "    if bf<-1 and me<root.left.value:#rl\n",
    "        root.right=rightRotate(root)\n",
    "        return leftRotate(root)\n",
    "    return root\n",
    "\n",
    "\n",
    "def leftRotate(A):\n",
    "    b=a.right\n",
    "    temp=b.left\n",
    "    b.left=a\n",
    "    a.right=temp\n",
    "    a.height=1+max(ght(a.left)-ght(a.right))\n",
    "    b.height=1+max(ght(b.left)-gth(b.right))\n",
    "    return b\n",
    "\n",
    "\n",
    "def rightRotate(A):\n",
    "    b=a.left\n",
    "    temp=b.right\n",
    "    b.right=a\n",
    "    a.left=temp\n",
    "    a.height=1+max(ght(a.left)-ght(a.right))\n",
    "    b.height=1+max(ght(b.left)-gth(b.right))\n",
    "    return b\n",
    "    \n",
    "\n",
    "\n",
    "if __name__=='__main__':\n",
    "    root=None\n",
    "    vl=[19,99,75,7,21,34,38,27,134,100,29,0,12,17,143]\n",
    "    for i in vl:\n",
    "        root=insert(root,i)\n",
    "    inorder(root)"
   ]
  },
  {
   "cell_type": "code",
   "execution_count": 28,
   "id": "e76bc0a0",
   "metadata": {},
   "outputs": [
    {
     "name": "stdout",
     "output_type": "stream",
     "text": [
      "1\n"
     ]
    }
   ],
   "source": [
    "ls=[5,7,-10,-3,0,3,-5,1]\n",
    "min1=ls[0]\n",
    "for i in ls:\n",
    "    if i<min1 and i>0:\n",
    "        min1=i\n",
    "if min1<0:\n",
    "    min1=0\n",
    "print(min1)"
   ]
  },
  {
   "cell_type": "code",
   "execution_count": null,
   "id": "012e9413",
   "metadata": {},
   "outputs": [],
   "source": []
  },
  {
   "cell_type": "code",
   "execution_count": null,
   "id": "5c0ebf56",
   "metadata": {},
   "outputs": [],
   "source": []
  }
 ],
 "metadata": {
  "kernelspec": {
   "display_name": "Python 3 (ipykernel)",
   "language": "python",
   "name": "python3"
  },
  "language_info": {
   "codemirror_mode": {
    "name": "ipython",
    "version": 3
   },
   "file_extension": ".py",
   "mimetype": "text/x-python",
   "name": "python",
   "nbconvert_exporter": "python",
   "pygments_lexer": "ipython3",
   "version": "3.11.5"
  }
 },
 "nbformat": 4,
 "nbformat_minor": 5
}
